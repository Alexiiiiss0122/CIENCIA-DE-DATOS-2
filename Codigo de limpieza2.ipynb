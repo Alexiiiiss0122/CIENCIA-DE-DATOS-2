{
 "cells": [
  {
   "cell_type": "code",
   "execution_count": null,
   "id": "84070439",
   "metadata": {},
   "outputs": [],
   "source": [
    "#Importamos la libreria que vamos a ocupar\n",
    "import pandas as pd"
   ]
  },
  {
   "cell_type": "code",
   "execution_count": null,
   "id": "cc2b5df9",
   "metadata": {},
   "outputs": [],
   "source": [
    "# Cargar la base sucia\n",
    "data= pd.read_csv(\"Base_Sucia.csv\")\n",
    "data"
   ]
  },
  {
   "cell_type": "code",
   "execution_count": null,
   "id": "7b95d786",
   "metadata": {},
   "outputs": [],
   "source": [
    "# Información general\n",
    "data.info()"
   ]
  },
  {
   "cell_type": "code",
   "execution_count": null,
   "id": "741b24de",
   "metadata": {},
   "outputs": [],
   "source": [
    "data.head()"
   ]
  },
  {
   "cell_type": "code",
   "execution_count": null,
   "id": "3fe19f84",
   "metadata": {},
   "outputs": [],
   "source": [
    "#Generamos un df con True donde hay NaN y False donde hay datos\n",
    "data.isnull()"
   ]
  },
  {
   "cell_type": "code",
   "execution_count": null,
   "id": "361b34d8",
   "metadata": {},
   "outputs": [],
   "source": [
    "# Contar los valores nulos\n",
    "data.isnull().sum()"
   ]
  },
  {
   "cell_type": "code",
   "execution_count": null,
   "id": "f14cba17",
   "metadata": {},
   "outputs": [],
   "source": [
    "#Rellenamos las columnas numericas que tienen los valores nulos por el promedio\n",
    "columnas_numericas = [\"age\", \"campaign\", \"previous\"]\n",
    "\n",
    "for col in columnas_numericas:\n",
    "    data[col] = data[col].fillna(data[col].mean())"
   ]
  },
  {
   "cell_type": "code",
   "execution_count": null,
   "id": "8108d9ef",
   "metadata": {},
   "outputs": [],
   "source": [
    "#Rellenar los valores nulos en las columnas categoricas por la moda \n",
    "columnas_categoricas = [\"job\", \"marital\", \"education\", \"housing\", \"loan\", \"contact\", \"poutcome\", \"subscribed\"]\n",
    "\n",
    "for col in columnas_categoricas:\n",
    "    moda = data[col].mode()[0]\n",
    "    data[col] = data[col].fillna(moda)\n",
    "    print(f\"Columna '{col}'los valores nulos han sido reemplazados por la moda ('{moda}')\")"
   ]
  },
  {
   "cell_type": "markdown",
   "id": "ea015692",
   "metadata": {},
   "source": [
    "Al tratar de convertir la columna \"balance\" a bumerico marca error."
   ]
  },
  {
   "cell_type": "code",
   "execution_count": null,
   "id": "658ef6a8",
   "metadata": {},
   "outputs": [],
   "source": [
    "#Convierto los valores nulo de la columna balance a ceros\n",
    "data[\"balance\"] = data[\"balance\"].fillna(0)"
   ]
  },
  {
   "cell_type": "code",
   "execution_count": null,
   "id": "7066e64f",
   "metadata": {},
   "outputs": [],
   "source": [
    "data2=data.isnull().sum()"
   ]
  },
  {
   "cell_type": "code",
   "execution_count": null,
   "id": "b1cb6246",
   "metadata": {},
   "outputs": [],
   "source": [
    "#Checamos otra vez\n",
    "data2"
   ]
  },
  {
   "cell_type": "code",
   "execution_count": null,
   "id": "6a609154",
   "metadata": {},
   "outputs": [],
   "source": [
    "#Vemos las palabras de cada columna \n",
    "for col in [\"job\", \"marital\", \"education\", \"housing\", \"loan\", \"contact\", \"poutcome\", \"subscribed\"]:\n",
    "    print(f\"\\nColumna: {col}\")\n",
    "    print(data[col].unique())"
   ]
  },
  {
   "cell_type": "code",
   "execution_count": null,
   "id": "7bde5bdc",
   "metadata": {},
   "outputs": [],
   "source": [
    "#Eliminar palabras que son invalidas en las columnas\n",
    "valores_invalidos = [\"Auto%#\", \"unknown\"]\n",
    "\n",
    "columnas_a_revisar = [\"job\", \"education\", \"housing\", \"poutcome\", \"subscribed\"]\n",
    "\n",
    "for col in columnas_a_revisar:\n",
    "    data = data[~data[col].isin(valores_invalidos)]"
   ]
  },
  {
   "cell_type": "code",
   "execution_count": null,
   "id": "419ea3d7",
   "metadata": {},
   "outputs": [],
   "source": [
    "#Verificar que ya no esten\n",
    "for col in columnas_a_revisar:\n",
    "    print(f\"\\nColumna: {col}\")\n",
    "    print(data[col].unique())"
   ]
  },
  {
   "cell_type": "code",
   "execution_count": null,
   "id": "881d881f",
   "metadata": {},
   "outputs": [],
   "source": [
    "data.shape"
   ]
  },
  {
   "cell_type": "code",
   "execution_count": null,
   "id": "2bd00915",
   "metadata": {},
   "outputs": [],
   "source": [
    "#Checamos los duplicados\n",
    "data.duplicated().sum()"
   ]
  },
  {
   "cell_type": "code",
   "execution_count": null,
   "id": "98f6bca2",
   "metadata": {},
   "outputs": [],
   "source": [
    "#Eliminamos duplicacos\n",
    "data=data.drop_duplicates()"
   ]
  },
  {
   "cell_type": "code",
   "execution_count": null,
   "id": "195256c9",
   "metadata": {},
   "outputs": [],
   "source": [
    "#Checamos los duplicados\n",
    "data.duplicated().sum())"
   ]
  },
  {
   "cell_type": "code",
   "execution_count": null,
   "id": "0126ec5b",
   "metadata": {},
   "outputs": [],
   "source": [
    "#Checamos nombres de las columnas\n",
    "data.columns"
   ]
  },
  {
   "cell_type": "code",
   "execution_count": null,
   "id": "78388aa2",
   "metadata": {},
   "outputs": [],
   "source": [
    "#Renombramos las columnas a español\n",
    "data=data.rename(columns={'age': 'Edad', 'job':'trabajo', 'education':'educacion', 'balance':'saldo', 'marital':'estado_civil', 'housing':'credito_vivienda', 'loan':'prestamo',\n",
    "  'contact':'contacto', 'campaing':'campañas', 'previous':'contactos_previos', 'subscribed':'suscrito'})\n",
    "data"
   ]
  },
  {
   "cell_type": "code",
   "execution_count": null,
   "id": "451a5fdb",
   "metadata": {},
   "outputs": [],
   "source": [
    "#Checamos la base\n",
    "data"
   ]
  },
  {
   "cell_type": "code",
   "execution_count": null,
   "id": "6f1bbc7a",
   "metadata": {},
   "outputs": [],
   "source": [
    "#Guardo la base limpia\n",
    "data.to_csv(\"Base_limpia_Bank.csv\", index=False)"
   ]
  }
 ],
 "metadata": {
  "kernelspec": {
   "display_name": "Python 3",
   "language": "python",
   "name": "python3"
  },
  "language_info": {
   "name": "python",
   "version": "3.13.7"
  }
 },
 "nbformat": 4,
 "nbformat_minor": 5
}
